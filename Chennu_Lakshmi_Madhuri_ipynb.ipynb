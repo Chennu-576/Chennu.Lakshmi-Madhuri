{
  "nbformat": 4,
  "nbformat_minor": 0,
  "metadata": {
    "colab": {
      "provenance": [],
      "toc_visible": true,
      "authorship_tag": "ABX9TyMPsKEgmjFlm4Ff8HFbnts4",
      "include_colab_link": true
    },
    "kernelspec": {
      "name": "python3",
      "display_name": "Python 3"
    },
    "language_info": {
      "name": "python"
    }
  },
  "cells": [
    {
      "cell_type": "markdown",
      "metadata": {
        "id": "view-in-github",
        "colab_type": "text"
      },
      "source": [
        "<a href=\"https://colab.research.google.com/github/Chennu-576/Chennu.Lakshmi-Madhuri/blob/main/Chennu_Lakshmi_Madhuri_ipynb.ipynb\" target=\"_parent\"><img src=\"https://colab.research.google.com/assets/colab-badge.svg\" alt=\"Open In Colab\"/></a>"
      ]
    },
    {
      "cell_type": "markdown",
      "source": [
        "# 30 DAYS CODING CHALLENGE"
      ],
      "metadata": {
        "id": "LEQy1S3tlj0N"
      }
    },
    {
      "cell_type": "markdown",
      "source": [
        "BASIC PYHTON PROGRAMS"
      ],
      "metadata": {
        "id": "PpK-vyj3tMCk"
      }
    },
    {
      "cell_type": "markdown",
      "source": [
        "Hello World"
      ],
      "metadata": {
        "id": "28x7u8OmvECJ"
      }
    },
    {
      "cell_type": "code",
      "source": [
        "a = 'Hello World!'\n",
        "print(a)"
      ],
      "metadata": {
        "colab": {
          "base_uri": "https://localhost:8080/"
        },
        "id": "a1vh8fIOvIeC",
        "outputId": "3f71fdc1-aea0-4065-be79-e951395afd82"
      },
      "execution_count": null,
      "outputs": [
        {
          "output_type": "stream",
          "name": "stdout",
          "text": [
            "Hello World!\n"
          ]
        }
      ]
    },
    {
      "cell_type": "markdown",
      "source": [
        "Checking number is Positive or Negative"
      ],
      "metadata": {
        "id": "5lLPCEUoyzO6"
      }
    },
    {
      "cell_type": "code",
      "source": [
        "n=76\n",
        "if n > 0:\n",
        "  print('Positive')\n",
        "elif n < 0:\n",
        "  print('Negative')\n",
        "else:\n",
        "  print('zero')"
      ],
      "metadata": {
        "colab": {
          "base_uri": "https://localhost:8080/"
        },
        "id": "Jp5cgTDCzMFH",
        "outputId": "8aecc494-e2a9-41b3-f719-0d2f142b0dc0"
      },
      "execution_count": null,
      "outputs": [
        {
          "output_type": "stream",
          "name": "stdout",
          "text": [
            "Positive\n"
          ]
        }
      ]
    },
    {
      "cell_type": "markdown",
      "source": [
        "Checking number is Leap year or not"
      ],
      "metadata": {
        "id": "9KUC9NSazXAh"
      }
    },
    {
      "cell_type": "code",
      "source": [
        "x = 2023\n",
        "if (x % 400 == 0) or (x % 4 == 0 and x % 100 != 0): # relational and logical operators\n",
        "  print('x is leap year')\n",
        "else:\n",
        "  print('x is not leap year')"
      ],
      "metadata": {
        "colab": {
          "base_uri": "https://localhost:8080/"
        },
        "id": "uCZ2l-tEzrCl",
        "outputId": "c7f96599-be4d-4c47-b21b-297fa857a25a"
      },
      "execution_count": null,
      "outputs": [
        {
          "output_type": "stream",
          "name": "stdout",
          "text": [
            "x is not leap year\n"
          ]
        }
      ]
    },
    {
      "cell_type": "markdown",
      "source": [
        "Greatest among three numbers"
      ],
      "metadata": {
        "id": "mToOxYDoz0Di"
      }
    },
    {
      "cell_type": "code",
      "source": [
        "a1 = 25\n",
        "a2 = 38\n",
        "a3 = 56\n",
        "if (a1>a2 and a1>a3):\n",
        "  print(a1)\n",
        "elif a2 > a3:  # relational operator\n",
        "  print(a2)\n",
        "else:\n",
        "  print(a3)\n"
      ],
      "metadata": {
        "colab": {
          "base_uri": "https://localhost:8080/"
        },
        "id": "xb77cp9I0QJi",
        "outputId": "12bc29a4-835b-4554-ca7a-5554f6c3af33"
      },
      "execution_count": null,
      "outputs": [
        {
          "output_type": "stream",
          "name": "stdout",
          "text": [
            "56\n"
          ]
        }
      ]
    },
    {
      "cell_type": "markdown",
      "source": [
        "Swapping of two numbers"
      ],
      "metadata": {
        "id": "VTa7lkDn6DkZ"
      }
    },
    {
      "cell_type": "code",
      "source": [
        "a = 476\n",
        "b = 19\n",
        "\n",
        "print('value of a before swapping:',a)\n",
        "print('value of b before swapping:',b)\n",
        "\n",
        "temp = a  # temp = 476\n",
        "a = b     #  a= 19\n",
        "b = temp  # b = 476 (temp)\n",
        "\n",
        "print('value of a after swapping:',a)\n",
        "print('value of b after swapping:',b)\n"
      ],
      "metadata": {
        "colab": {
          "base_uri": "https://localhost:8080/"
        },
        "id": "Y4HW440q6KCK",
        "outputId": "6342ff40-04bf-4b2a-ffff-ca4f8ca365b7"
      },
      "execution_count": null,
      "outputs": [
        {
          "output_type": "stream",
          "name": "stdout",
          "text": [
            "value of a before swapping: 476\n",
            "value of b before swapping: 19\n",
            "value of a after swapping: 19\n",
            "value of b after swapping: 476\n"
          ]
        }
      ]
    },
    {
      "cell_type": "markdown",
      "source": [
        "Swapping of two numbers without using third variable"
      ],
      "metadata": {
        "id": "wjE46UPq-z4Z"
      }
    },
    {
      "cell_type": "code",
      "source": [
        "a = 7\n",
        "b = 15\n",
        "print(f'Before swapping a has {a} and b has {b}')\n",
        "a,b = b,a\n",
        "print(f'After swapping a has {a} and b has {b}')\n"
      ],
      "metadata": {
        "colab": {
          "base_uri": "https://localhost:8080/"
        },
        "id": "xkM-0i9P8Ye1",
        "outputId": "d558cb3d-a722-4b3c-c46f-0c68a61dce01"
      },
      "execution_count": null,
      "outputs": [
        {
          "output_type": "stream",
          "name": "stdout",
          "text": [
            "Before swapping a has 7 and b has 15\n",
            "After swapping a has 15 and b has 7\n"
          ]
        }
      ]
    },
    {
      "cell_type": "markdown",
      "source": [
        "Prime Number"
      ],
      "metadata": {
        "id": "XTzJCyiX7a6m"
      }
    },
    {
      "cell_type": "code",
      "source": [
        "num = 7\n",
        "count = 0\n",
        "if num > 1:\n",
        "    for i in range(1,num+1):\n",
        "        if num % i == 0:\n",
        "            count = count + 1\n",
        "    if count == 2:\n",
        "        print('num is prime:')    # A number is divisible by one and itself. so it has 2 factors\n",
        "    else:\n",
        "        print('num is not prime:')"
      ],
      "metadata": {
        "colab": {
          "base_uri": "https://localhost:8080/"
        },
        "id": "cEG9H1Il7mwt",
        "outputId": "fac5a6a7-34f2-4423-b528-94b80ca4f491"
      },
      "execution_count": null,
      "outputs": [
        {
          "output_type": "stream",
          "name": "stdout",
          "text": [
            "num is prime:\n"
          ]
        }
      ]
    },
    {
      "cell_type": "markdown",
      "source": [
        "Number is even or odd"
      ],
      "metadata": {
        "id": "QPuBxPpO-jIx"
      }
    },
    {
      "cell_type": "code",
      "source": [
        "n = 86\n",
        "if n % 2 == 0:\n",
        "  print('n is Even')\n",
        "else:\n",
        "  print('n is Odd')"
      ],
      "metadata": {
        "colab": {
          "base_uri": "https://localhost:8080/"
        },
        "id": "JgFzGDji_RgJ",
        "outputId": "3ce99337-f0c2-486b-ff11-2e81fb170cfe"
      },
      "execution_count": null,
      "outputs": [
        {
          "output_type": "stream",
          "name": "stdout",
          "text": [
            "n is Even\n"
          ]
        }
      ]
    },
    {
      "cell_type": "markdown",
      "source": [
        "Factorial of a number"
      ],
      "metadata": {
        "id": "tEaYF56TAoE9"
      }
    },
    {
      "cell_type": "code",
      "source": [
        "fact = 1\n",
        "num = 6\n",
        "\n",
        "if num < 0:\n",
        "    print('factorial number does not exist for negative number')\n",
        "elif num == 0:\n",
        "    print('factorial number of 0 is 1')\n",
        "else:\n",
        "    for i in range(1,num+1):\n",
        "        fact = fact * i\n",
        "    print('factorial number of', num,'is:',fact)"
      ],
      "metadata": {
        "colab": {
          "base_uri": "https://localhost:8080/"
        },
        "id": "S1qYnInGAyhD",
        "outputId": "04a82fcd-b0c2-4003-8576-67f8081a3cf0"
      },
      "execution_count": null,
      "outputs": [
        {
          "output_type": "stream",
          "name": "stdout",
          "text": [
            "factorial number of 6 is: 720\n"
          ]
        }
      ]
    },
    {
      "cell_type": "markdown",
      "source": [
        "Factorial of number using recursive approach"
      ],
      "metadata": {
        "id": "fQslB6YrBDKQ"
      }
    },
    {
      "cell_type": "code",
      "source": [
        "def factorial(n):\n",
        "    if n == 0 or n == 1:\n",
        "        return 1\n",
        "    else:\n",
        "        return n * factorial (n-1)\n",
        "num = 5\n",
        "print('factorial of',num, 'is:',factorial(num))\n"
      ],
      "metadata": {
        "colab": {
          "base_uri": "https://localhost:8080/"
        },
        "id": "7hD94kJsBJZg",
        "outputId": "588bd7c9-cf6a-4552-9615-efd3aae1c6c0"
      },
      "execution_count": null,
      "outputs": [
        {
          "output_type": "stream",
          "name": "stdout",
          "text": [
            "factorial of 5 is: 120\n"
          ]
        }
      ]
    },
    {
      "cell_type": "markdown",
      "source": [
        "Sum of natural numbers"
      ],
      "metadata": {
        "id": "ALcjQ7kiBRtz"
      }
    },
    {
      "cell_type": "code",
      "source": [
        "n = int(input('Enter a number:'))\n",
        "sum = 0\n",
        "for i in range(n+1):\n",
        "  sum += i\n",
        "print('sum:',sum)"
      ],
      "metadata": {
        "colab": {
          "base_uri": "https://localhost:8080/"
        },
        "id": "dp5AbkF6BtiJ",
        "outputId": "a9281147-d40a-47de-d7b6-bc7f7c892ada"
      },
      "execution_count": null,
      "outputs": [
        {
          "output_type": "stream",
          "name": "stdout",
          "text": [
            "Enter a number:12\n",
            "sum: 78\n"
          ]
        }
      ]
    },
    {
      "cell_type": "code",
      "source": [
        "n = int(input('Enter a number:'))\n",
        "sum = 0\n",
        "while n> 0:\n",
        "  sum += n\n",
        "  n -= 1\n",
        "print('sum:',sum)"
      ],
      "metadata": {
        "colab": {
          "base_uri": "https://localhost:8080/"
        },
        "id": "n5XQiJ2cCrJ8",
        "outputId": "97637539-ebea-48d3-dd46-27626a7d8466"
      },
      "execution_count": null,
      "outputs": [
        {
          "output_type": "stream",
          "name": "stdout",
          "text": [
            "Enter a number:8\n",
            "sum: 36\n"
          ]
        }
      ]
    },
    {
      "cell_type": "markdown",
      "source": [
        "Fibonacci Series"
      ],
      "metadata": {
        "id": "ec_bl_XiDI_F"
      }
    },
    {
      "cell_type": "code",
      "source": [
        "num = 10\n",
        "n1, n2 = 0, 1\n",
        "print(\"Fibonacci Series:\", n1, n2, end=\" \")\n",
        "for i in range(2, num):\n",
        "    n3 = n1 + n2          # fibnocci series is defined as sum of two preceeding numbers\n",
        "    n1 = n2\n",
        "    n2 = n3\n",
        "    print(n3, end=\" \")\n",
        "\n",
        "print()"
      ],
      "metadata": {
        "colab": {
          "base_uri": "https://localhost:8080/"
        },
        "id": "IJJoy7slDN0y",
        "outputId": "b4adf3bb-d728-409a-c1ff-74c551127f2d"
      },
      "execution_count": null,
      "outputs": [
        {
          "output_type": "stream",
          "name": "stdout",
          "text": [
            "Fibonacci Series: 0 1 1 2 3 5 8 13 21 34 \n"
          ]
        }
      ]
    },
    {
      "cell_type": "markdown",
      "source": [
        "Reverse of a given number"
      ],
      "metadata": {
        "id": "rbnQMQPJE9bs"
      }
    },
    {
      "cell_type": "code",
      "source": [
        "num = 1234\n",
        "temp = num\n",
        "reverse = 0\n",
        "while num > 0:\n",
        "    remainder = num % 10\n",
        "    reverse = (reverse * 10) + remainder\n",
        "    num = num // 10\n",
        "\n",
        "print(reverse)"
      ],
      "metadata": {
        "colab": {
          "base_uri": "https://localhost:8080/"
        },
        "id": "cwGxJSVdFVrF",
        "outputId": "dae1e0f0-1a5a-47a9-8fe4-4d80f277101f"
      },
      "execution_count": null,
      "outputs": [
        {
          "output_type": "stream",
          "name": "stdout",
          "text": [
            "4321\n"
          ]
        }
      ]
    },
    {
      "cell_type": "markdown",
      "source": [
        "Reversing a number using string slicing"
      ],
      "metadata": {
        "id": "j2HT293QFgYV"
      }
    },
    {
      "cell_type": "code",
      "source": [
        "num = 76\n",
        "print(str(num)[::-1])\n"
      ],
      "metadata": {
        "colab": {
          "base_uri": "https://localhost:8080/"
        },
        "id": "qT_ala9UFk3b",
        "outputId": "ea93813b-d065-4056-db49-6a469e99f2d0"
      },
      "execution_count": null,
      "outputs": [
        {
          "output_type": "stream",
          "name": "stdout",
          "text": [
            "67\n"
          ]
        }
      ]
    },
    {
      "cell_type": "markdown",
      "source": [
        "Count the number of digits in a number"
      ],
      "metadata": {
        "id": "u_p0Jxb3Gel2"
      }
    },
    {
      "cell_type": "code",
      "source": [
        "n = 987\n",
        "count = 0\n",
        "while n:\n",
        "  n = n // 10\n",
        "  count = count + 1\n",
        "print(count)"
      ],
      "metadata": {
        "colab": {
          "base_uri": "https://localhost:8080/"
        },
        "id": "28J_5E9pGk-_",
        "outputId": "0c622e9c-62d2-4cbf-aced-4edad0ad6480"
      },
      "execution_count": null,
      "outputs": [
        {
          "output_type": "stream",
          "name": "stdout",
          "text": [
            "3\n"
          ]
        }
      ]
    },
    {
      "cell_type": "code",
      "source": [
        "num = 4567\n",
        "print(len(str(num)))"
      ],
      "metadata": {
        "colab": {
          "base_uri": "https://localhost:8080/"
        },
        "id": "_Y7XezoAG9md",
        "outputId": "afe49cb0-40f0-48b2-9ea7-a82036c98a4e"
      },
      "execution_count": null,
      "outputs": [
        {
          "output_type": "stream",
          "name": "stdout",
          "text": [
            "4\n"
          ]
        }
      ]
    },
    {
      "cell_type": "markdown",
      "source": [
        "Compute the power of a number"
      ],
      "metadata": {
        "id": "piAnEXbeHvo_"
      }
    },
    {
      "cell_type": "code",
      "source": [
        "num = 4\n",
        "pow = 3\n",
        "def power(num,pow):\n",
        "  return num ** pow\n",
        "print(power(num,pow))"
      ],
      "metadata": {
        "colab": {
          "base_uri": "https://localhost:8080/"
        },
        "id": "0d3HiUCaHyyz",
        "outputId": "6bb1cedb-e355-49f3-82e9-27e1fe255533"
      },
      "execution_count": null,
      "outputs": [
        {
          "output_type": "stream",
          "name": "stdout",
          "text": [
            "64\n"
          ]
        }
      ]
    },
    {
      "cell_type": "code",
      "source": [
        "print(int(power(4,3)))"
      ],
      "metadata": {
        "colab": {
          "base_uri": "https://localhost:8080/"
        },
        "id": "QbuhgZ95IL7J",
        "outputId": "5368c84a-a274-4dcc-e2c6-5d39cda744ca"
      },
      "execution_count": null,
      "outputs": [
        {
          "output_type": "stream",
          "name": "stdout",
          "text": [
            "64\n"
          ]
        }
      ]
    },
    {
      "cell_type": "markdown",
      "source": [
        "Palindrome"
      ],
      "metadata": {
        "id": "8-zmNO_FJQUu"
      }
    },
    {
      "cell_type": "code",
      "source": [
        "num = 1221\n",
        "temp = num\n",
        "reverse = 0\n",
        "while temp > 0:\n",
        "    remainder = temp % 10\n",
        "    reverse = (reverse * 10) + remainder\n",
        "    temp = temp // 10\n",
        "if num == reverse:\n",
        "  print('Palindrome')\n",
        "else:\n",
        "  print(\"Not Palindrome\")"
      ],
      "metadata": {
        "colab": {
          "base_uri": "https://localhost:8080/"
        },
        "id": "5KZO8lJ1I--m",
        "outputId": "b60c404a-7bda-4731-c870-b439867eab99"
      },
      "execution_count": null,
      "outputs": [
        {
          "output_type": "stream",
          "name": "stdout",
          "text": [
            "Palindrome\n"
          ]
        }
      ]
    },
    {
      "cell_type": "markdown",
      "source": [
        "Palindrome using string slicing"
      ],
      "metadata": {
        "id": "ojDG0_dQJn88"
      }
    },
    {
      "cell_type": "code",
      "source": [
        "num = 1234\n",
        "reverse = int(str(num)[::-1])\n",
        "\n",
        "if num == reverse:\n",
        "  print('Palindrome')\n",
        "else:\n",
        "  print(\"Not Palindrome\")"
      ],
      "metadata": {
        "colab": {
          "base_uri": "https://localhost:8080/"
        },
        "id": "SmuRtKM_JdP8",
        "outputId": "b7ab0b2c-fb27-4bc4-f44e-75e24f21469a"
      },
      "execution_count": null,
      "outputs": [
        {
          "output_type": "stream",
          "name": "stdout",
          "text": [
            "Not Palindrome\n"
          ]
        }
      ]
    },
    {
      "cell_type": "markdown",
      "source": [
        "Check whether a character is a vowel or consonant"
      ],
      "metadata": {
        "id": "aNmTBm2eKG47"
      }
    },
    {
      "cell_type": "code",
      "source": [
        "c = 'a'  # a- 97 & z- 122\n",
        "\n",
        "# checking for vowels\n",
        "if c == 'a' or c == 'e' or c == 'i' or c == 'o' or c == 'u' or c == 'A' or c == 'E' or c == 'I' or c == 'O' or c == 'U':\n",
        "    print(c, \"is a vowel\")  # condition true input is vowel\n",
        "else:\n",
        "    print(c, \"is a consonant\")  # condition true input is consonant"
      ],
      "metadata": {
        "colab": {
          "base_uri": "https://localhost:8080/"
        },
        "id": "83xbYkqEKClN",
        "outputId": "67a1a42a-cb3a-47a8-b939-ad4d21b7d215"
      },
      "execution_count": null,
      "outputs": [
        {
          "output_type": "stream",
          "name": "stdout",
          "text": [
            "a is a vowel\n"
          ]
        }
      ]
    },
    {
      "cell_type": "markdown",
      "source": [
        "Finding Ascii value of a character"
      ],
      "metadata": {
        "id": "qWojVmMVL_bT"
      }
    },
    {
      "cell_type": "code",
      "source": [
        "Char = 'E'  # A- 65 & Z- 90\n",
        "\n",
        "# convert Char to Ascii value\n",
        "Ascii_val = ord(Char)\n",
        "\n",
        "# print Value\n",
        "print('The ASCII value of', Char, 'is', Ascii_val)"
      ],
      "metadata": {
        "colab": {
          "base_uri": "https://localhost:8080/"
        },
        "id": "OfFEQAXyMUPT",
        "outputId": "f15d045b-191f-490b-a6de-06943b7b8022"
      },
      "execution_count": null,
      "outputs": [
        {
          "output_type": "stream",
          "name": "stdout",
          "text": [
            "The ASCII value of E is 69\n"
          ]
        }
      ]
    },
    {
      "cell_type": "markdown",
      "source": [
        "Checking if two strings are Anagram or not"
      ],
      "metadata": {
        "id": "rf5Oh-MRNTZ8"
      }
    },
    {
      "cell_type": "code",
      "source": [
        "String1 = \"Listen\"\n",
        "String2 = \"Silent\"\n",
        "\n",
        "if String1 == String2:\n",
        "    print('Strings are anagram')\n",
        "else:\n",
        "    print('Strings are not anagram')"
      ],
      "metadata": {
        "colab": {
          "base_uri": "https://localhost:8080/"
        },
        "id": "pVSsQh8XNc1u",
        "outputId": "09de674f-1d54-4ce7-f452-c7d8074fc0b0"
      },
      "execution_count": null,
      "outputs": [
        {
          "output_type": "stream",
          "name": "stdout",
          "text": [
            "Strings are not anagram\n"
          ]
        }
      ]
    },
    {
      "cell_type": "markdown",
      "source": [
        "Printing Patterns"
      ],
      "metadata": {
        "id": "vmDbQ2uwGJaD"
      }
    },
    {
      "cell_type": "code",
      "source": [
        "n = 5\n",
        "for i in range(n):\n",
        "  print('* ' * n)"
      ],
      "metadata": {
        "colab": {
          "base_uri": "https://localhost:8080/"
        },
        "id": "zb77OwFwGaeJ",
        "outputId": "201c56a4-0270-4f0e-8a66-5a024822be23"
      },
      "execution_count": 6,
      "outputs": [
        {
          "output_type": "stream",
          "name": "stdout",
          "text": [
            "* * * * * \n",
            "* * * * * \n",
            "* * * * * \n",
            "* * * * * \n",
            "* * * * * \n"
          ]
        }
      ]
    },
    {
      "cell_type": "markdown",
      "source": [
        "Pattern for right triangle star pattern"
      ],
      "metadata": {
        "id": "-hZH4Q1TJgFg"
      }
    },
    {
      "cell_type": "code",
      "source": [
        "n = int(input())\n",
        "for i in range(1,n+1):\n",
        "  print('* ' * i)"
      ],
      "metadata": {
        "colab": {
          "base_uri": "https://localhost:8080/"
        },
        "id": "hjQwKzxmIc6o",
        "outputId": "d7968b00-45e5-4e09-c67e-93c3a699a623"
      },
      "execution_count": 7,
      "outputs": [
        {
          "output_type": "stream",
          "name": "stdout",
          "text": [
            "4\n",
            "* \n",
            "* * \n",
            "* * * \n",
            "* * * * \n"
          ]
        }
      ]
    },
    {
      "cell_type": "code",
      "source": [
        "n = 4\n",
        "for i in range(n):\n",
        "  for j in range(n-i-1):\n",
        "    print(\"  \",end=\"\")\n",
        "  for k in range(i+1):\n",
        "    print(\"* \",end=\"\")\n",
        "  print()"
      ],
      "metadata": {
        "colab": {
          "base_uri": "https://localhost:8080/"
        },
        "id": "1kBK7EATL_B7",
        "outputId": "cdc77e7d-b786-47af-f0a1-4cf829de18f8"
      },
      "execution_count": 14,
      "outputs": [
        {
          "output_type": "stream",
          "name": "stdout",
          "text": [
            "      * \n",
            "    * * \n",
            "  * * * \n",
            "* * * * \n"
          ]
        }
      ]
    },
    {
      "cell_type": "code",
      "source": [
        "n = 4\n",
        "for i in range(n):\n",
        "  for j in range(n-i):\n",
        "    print(\"* \",end=\"\")\n",
        "  print()\n"
      ],
      "metadata": {
        "colab": {
          "base_uri": "https://localhost:8080/"
        },
        "id": "ZXJwK-NoNTaz",
        "outputId": "cdbe09d3-aafc-4889-d814-1cf1cab20a34"
      },
      "execution_count": 15,
      "outputs": [
        {
          "output_type": "stream",
          "name": "stdout",
          "text": [
            "* * * * \n",
            "* * * \n",
            "* * \n",
            "* \n"
          ]
        }
      ]
    }
  ]
}